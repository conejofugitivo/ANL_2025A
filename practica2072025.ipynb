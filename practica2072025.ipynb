{
 "cells": [
  {
   "cell_type": "markdown",
   "id": "859d069e",
   "metadata": {},
   "source": [
    "## Implementacion del método de GAUSS-SEIDEL\n",
    "\n",
    "\\begin{equation}\n",
    "x_i^{k+1} = \\frac{1}{a_{ii}}\\left(b_i - \\sum_{j=1}^{i-1}a_{ij}x_j^{k+1} - \\sum_{j=i+1}^n a_{ij}x_j^k  \\right), \\hspace{0.5cm} \\forall i = 1, ...,n; \\hspace{0.5cm} k = 0,1,2,...\n",
    "\\end{equation}"
   ]
  },
  {
   "cell_type": "code",
   "execution_count": 33,
   "id": "a77dc529",
   "metadata": {},
   "outputs": [],
   "source": [
    "import numpy as np\n",
    "from numpy.linalg import norm"
   ]
  },
  {
   "cell_type": "code",
   "execution_count": 40,
   "id": "9c81fb7a",
   "metadata": {},
   "outputs": [],
   "source": [
    "def gauss_seidel(A, b, x_0, tolerance):\n",
    "    x = x_0.copy()\n",
    "    k = 0\n",
    "    while norm(b-A*x) > tolerance and k<= 100:\n",
    "        x_ant = x.copy()\n",
    "        for i in range(len(A)):\n",
    "            s1 = 0\n",
    "            s2 = 0\n",
    "            for j in range(0,i):\n",
    "                s1 += A[i,j]*x[j]\n",
    "            for j in range(i+1,len(A)):\n",
    "                s2 += A[i,j]*x_ant[j]\n",
    "            x[i] = (b[i]-s1-s2)/A[i,i]\n",
    "            k += 1\n",
    "    return x, k\n"
   ]
  },
  {
   "cell_type": "code",
   "execution_count": 43,
   "id": "194371d6",
   "metadata": {},
   "outputs": [
    {
     "name": "stdout",
     "output_type": "stream",
     "text": [
      "[22.73689412  3.40080715  1.86229873]\n"
     ]
    },
    {
     "data": {
      "text/plain": [
       "(array([0, 0, 0]), 102)"
      ]
     },
     "execution_count": 43,
     "metadata": {},
     "output_type": "execute_result"
    }
   ],
   "source": [
    "A = np.array([[1,2,0],[3,0,0],[3,1,2]])\n",
    "b = np.array([1,2,3])\n",
    "x_0 = np.array([0,0,0])\n",
    "B = A@A.T\n",
    "print(np.linalg.eigvals(B))\n",
    "gauss_seidel(B,b,x_0,0.01)"
   ]
  },
  {
   "cell_type": "code",
   "execution_count": 34,
   "id": "01986c4b",
   "metadata": {},
   "outputs": [
    {
     "data": {
      "text/plain": [
       "['LinAlgError',\n",
       " '__all__',\n",
       " '__builtins__',\n",
       " '__cached__',\n",
       " '__doc__',\n",
       " '__file__',\n",
       " '__loader__',\n",
       " '__name__',\n",
       " '__package__',\n",
       " '__path__',\n",
       " '__spec__',\n",
       " '_linalg',\n",
       " '_umath_linalg',\n",
       " 'cholesky',\n",
       " 'cond',\n",
       " 'cross',\n",
       " 'det',\n",
       " 'diagonal',\n",
       " 'eig',\n",
       " 'eigh',\n",
       " 'eigvals',\n",
       " 'eigvalsh',\n",
       " 'inv',\n",
       " 'linalg',\n",
       " 'lstsq',\n",
       " 'matmul',\n",
       " 'matrix_norm',\n",
       " 'matrix_power',\n",
       " 'matrix_rank',\n",
       " 'matrix_transpose',\n",
       " 'multi_dot',\n",
       " 'norm',\n",
       " 'outer',\n",
       " 'pinv',\n",
       " 'qr',\n",
       " 'slogdet',\n",
       " 'solve',\n",
       " 'svd',\n",
       " 'svdvals',\n",
       " 'tensordot',\n",
       " 'tensorinv',\n",
       " 'tensorsolve',\n",
       " 'test',\n",
       " 'trace',\n",
       " 'vecdot',\n",
       " 'vector_norm']"
      ]
     },
     "execution_count": 34,
     "metadata": {},
     "output_type": "execute_result"
    }
   ],
   "source": [
    "dir(np.linalg)"
   ]
  }
 ],
 "metadata": {
  "kernelspec": {
   "display_name": "entorno",
   "language": "python",
   "name": "python3"
  },
  "language_info": {
   "codemirror_mode": {
    "name": "ipython",
    "version": 3
   },
   "file_extension": ".py",
   "mimetype": "text/x-python",
   "name": "python",
   "nbconvert_exporter": "python",
   "pygments_lexer": "ipython3",
   "version": "3.13.2"
  }
 },
 "nbformat": 4,
 "nbformat_minor": 5
}
